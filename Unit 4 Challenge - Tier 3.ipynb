{
 "cells": [
  {
   "cell_type": "markdown",
   "metadata": {
    "colab_type": "text",
    "id": "Tia3MP1SJpgj"
   },
   "source": [
    "# Springboard Data Science Career Track Unit 4 Challenge - Tier 3 Complete\n",
    "\n",
    "## Objectives\n",
    "Hey! Great job getting through those challenging DataCamp courses. You're learning a lot in a short span of time. \n",
    "\n",
    "In this notebook, you're going to apply the skills you've been learning, bridging the gap between the controlled environment of DataCamp and the *slightly* messier work that data scientists do with actual datasets!\n",
    "\n",
    "Here’s the mystery we’re going to solve: ***which boroughs of London have seen the greatest increase in housing prices, on average, over the last two decades?***\n",
    "\n",
    "\n",
    "A borough is just a fancy word for district. You may be familiar with the five boroughs of New York… well, there are 32 boroughs within Greater London [(here's some info for the curious)](https://en.wikipedia.org/wiki/London_boroughs). Some of them are more desirable areas to live in, and the data will reflect that with a greater rise in housing prices.\n",
    "\n",
    "***This is the Tier 3 notebook, which means it's not filled in at all: we'll just give you the skeleton of a project, the brief and the data. It's up to you to play around with it and see what you can find out! Good luck! If you struggle, feel free to look at easier tiers for help; but try to dip in and out of them, as the more independent work you do, the better it is for your learning!***\n",
    "\n",
    "This challenge will make use of only what you learned in the following DataCamp courses: \n",
    "- Prework courses (Introduction to Python for Data Science, Intermediate Python for Data Science)\n",
    "- Data Types for Data Science\n",
    "- Python Data Science Toolbox (Part One) \n",
    "- pandas Foundations\n",
    "- Manipulating DataFrames with pandas\n",
    "- Merging DataFrames with pandas\n",
    "\n",
    "Of the tools, techniques and concepts in the above DataCamp courses, this challenge should require the application of the following: \n",
    "- **pandas**\n",
    "    - **data ingestion and inspection** (pandas Foundations, Module One) \n",
    "    - **exploratory data analysis** (pandas Foundations, Module Two)\n",
    "    - **tidying and cleaning** (Manipulating DataFrames with pandas, Module Three) \n",
    "    - **transforming DataFrames** (Manipulating DataFrames with pandas, Module One)\n",
    "    - **subsetting DataFrames with lists** (Manipulating DataFrames with pandas, Module One) \n",
    "    - **filtering DataFrames** (Manipulating DataFrames with pandas, Module One) \n",
    "    - **grouping data** (Manipulating DataFrames with pandas, Module Four) \n",
    "    - **melting data** (Manipulating DataFrames with pandas, Module Three) \n",
    "    - **advanced indexing** (Manipulating DataFrames with pandas, Module Four) \n",
    "- **matplotlib** (Intermediate Python for Data Science, Module One)\n",
    "- **fundamental data types** (Data Types for Data Science, Module One) \n",
    "- **dictionaries** (Intermediate Python for Data Science, Module Two)\n",
    "- **handling dates and times** (Data Types for Data Science, Module Four)\n",
    "- **function definition** (Python Data Science Toolbox - Part One, Module One)\n",
    "- **default arguments, variable length, and scope** (Python Data Science Toolbox - Part One, Module Two) \n",
    "- **lambda functions and error handling** (Python Data Science Toolbox - Part One, Module Four) "
   ]
  },
  {
   "cell_type": "markdown",
   "metadata": {
    "colab_type": "text",
    "id": "Ipgd2nV8Jpgl"
   },
   "source": [
    "## The Data Science Pipeline\n",
    "\n",
    "This is Tier Three, so we'll get you started. But after that, it's all in your hands! When you feel done with your investigations, look back over what you've accomplished, and prepare a quick presentation of your findings for the next mentor meeting. \n",
    "\n",
    "Data Science is magical. In this case study, you'll get to apply some complex machine learning algorithms. But as  [David Spiegelhalter](https://www.youtube.com/watch?v=oUs1uvsz0Ok) reminds us, there is no substitute for simply **taking a really, really good look at the data.** Sometimes, this is all we need to answer our question.\n",
    "\n",
    "Data Science projects generally adhere to the four stages of Data Science Pipeline:\n",
    "1. Sourcing and loading \n",
    "2. Cleaning, transforming, and visualizing \n",
    "3. Modeling \n",
    "4. Evaluating and concluding \n"
   ]
  },
  {
   "cell_type": "markdown",
   "metadata": {
    "colab_type": "text",
    "id": "zswDqbefJpgm"
   },
   "source": [
    "### 1. Sourcing and Loading \n",
    "\n",
    "Any Data Science project kicks off by importing  ***pandas***. The documentation of this wonderful library can be found [here](https://pandas.pydata.org/). As you've seen, pandas is conveniently connected to the [Numpy](http://www.numpy.org/) and [Matplotlib](https://matplotlib.org/) libraries. \n",
    "\n",
    "***Hint:*** This part of the data science pipeline will test those skills you acquired in the pandas Foundations course, Module One. "
   ]
  },
  {
   "cell_type": "markdown",
   "metadata": {
    "colab_type": "text",
    "id": "aEau5nEvJpgm"
   },
   "source": [
    "#### 1.1. Importing Libraries"
   ]
  },
  {
   "cell_type": "code",
   "execution_count": 0,
   "metadata": {
    "colab": {},
    "colab_type": "code",
    "id": "7Bt_Q_oPJpgn"
   },
   "outputs": [],
   "source": [
    "# Part 1.1\n",
    "import pandas as pd\n",
    "import numpy as np\n",
    "import matplotlib.pyplot as plt\n",
    "\n",
    "# # Permanently changes the pandas settings\n",
    "# pd.set_option('display.max_rows', None)\n",
    "# pd.set_option('display.max_columns', None)\n",
    "# pd.set_option('display.width', None)\n",
    "# pd.set_option('display.max_colwidth', None)\n",
    "\n",
    "# # Resets the options\n",
    "# pd.reset_option('all')"
   ]
  },
  {
   "cell_type": "markdown",
   "metadata": {
    "colab_type": "text",
    "id": "koUrawxsJpgq"
   },
   "source": [
    "#### 1.2.  Loading the data\n",
    "Your data comes from the [London Datastore](https://data.london.gov.uk/): a free, open-source data-sharing portal for London-oriented datasets. "
   ]
  },
  {
   "cell_type": "code",
   "execution_count": 0,
   "metadata": {
    "colab": {},
    "colab_type": "code",
    "id": "AiLiD4v3Jpgr"
   },
   "outputs": [],
   "source": [
    "# Part 1.2\n",
    "url_LondonHousePrices = \"https://data.london.gov.uk/download/uk-house-price-index/70ac0766-8902-4eb5-aab5-01951aaed773/UK%20House%20price%20index.xls\"\n",
    "properties = pd.read_excel(url_LondonHousePrices, sheet_name='Average price', index_col= None)"
   ]
  },
  {
   "cell_type": "markdown",
   "metadata": {
    "colab_type": "text",
    "id": "POukEJXgJpgu"
   },
   "source": [
    "### 2. Cleaning, transforming, and visualizing\n",
    "This second stage is arguably the most important part of any Data Science project. The first thing to do is take a proper look at the data. Cleaning forms the majority of this stage, and can be done both before or after Transformation.\n",
    "\n",
    "The end goal of data cleaning is to have tidy data. When data is tidy: \n",
    "\n",
    "1. Each variable has a column.\n",
    "2. Each observation forms a row.\n",
    "\n",
    "Keep the end goal in mind as you move through this process, every step will take you closer. \n",
    "\n",
    "\n",
    "\n",
    "***Hint:*** This part of the data science pipeline should test those skills you acquired in: \n",
    "- Intermediate Python for data science, all modules.\n",
    "- pandas Foundations, all modules. \n",
    "- Manipulating DataFrames with pandas, all modules.\n",
    "- Data Types for Data Science, Module Four.\n",
    "- Python Data Science Toolbox - Part One, all modules"
   ]
  },
  {
   "cell_type": "markdown",
   "metadata": {
    "colab_type": "text",
    "id": "Te0Q548tnzZa"
   },
   "source": [
    "**2.1. Exploring your data** \n",
    "\n",
    "Think about your pandas functions for checking out a dataframe. "
   ]
  },
  {
   "cell_type": "code",
   "execution_count": 0,
   "metadata": {
    "colab": {},
    "colab_type": "code",
    "id": "Rxirxw_qoAJa"
   },
   "outputs": [],
   "source": [
    "# Part 2.1\n",
    "print(properties.head().iloc[:,:5],properties.iloc[:5,:5],properties.describe(),properties.columns,properties.index,properties.shape,sep=\"\\n\\n NEXT \\n\\n\")"
   ]
  },
  {
   "cell_type": "markdown",
   "metadata": {
    "colab_type": "text",
    "id": "tE9Sqt9-oAta"
   },
   "source": [
    "**2.2. Cleaning the data**\n",
    "\n",
    "You might find you need to transpose your dataframe, check out what its row indexes are, and reset the index. You  also might find you need to assign the values of the first row to your column headings  . (Hint: recall the .columns feature of DataFrames, as well as the iloc[] method).\n",
    "\n",
    "Don't be afraid to use StackOverflow for help  with this."
   ]
  },
  {
   "cell_type": "code",
   "execution_count": 0,
   "metadata": {
    "colab": {},
    "colab_type": "code",
    "id": "cdAu1A3YoH_r"
   },
   "outputs": [],
   "source": [
    "# Part 2.2\n",
    "pt = properties.transpose()\n",
    "pt = pt.reset_index()\n",
    "pt.columns = pt.iloc[0,:]\n",
    "pt.iloc[:5,:10]"
   ]
  },
  {
   "cell_type": "markdown",
   "metadata": {
    "colab_type": "text",
    "id": "o1uLbJAsoIjK"
   },
   "source": [
    "**2.3. Cleaning the data (part 2)**\n",
    "\n",
    "You might we have to **rename** a couple columns. How do you do this? The clue's pretty bold..."
   ]
  },
  {
   "cell_type": "code",
   "execution_count": 0,
   "metadata": {
    "colab": {},
    "colab_type": "code",
    "id": "GKkmn1AnoVZS"
   },
   "outputs": [],
   "source": [
    "# Part 2.3\n",
    "pt.columns.values[0:2] = [\"area\",\"code\"]\n",
    "pt = pt.drop(0).reset_index(drop=True)"
   ]
  },
  {
   "cell_type": "markdown",
   "metadata": {
    "colab_type": "text",
    "id": "jy8BzXHmoWEw"
   },
   "source": [
    "**2.4.Transforming the data**\n",
    "\n",
    "Remember what Wes McKinney said about tidy data? \n",
    "\n",
    "You might need to **melt** your DataFrame here. "
   ]
  },
  {
   "cell_type": "code",
   "execution_count": 0,
   "metadata": {
    "colab": {},
    "colab_type": "code",
    "id": "S2wM0qLuo2Zt"
   },
   "outputs": [],
   "source": [
    "# Part 2.4\n",
    "ptm = pd.melt(pt,id_vars=[\"area\",\"code\"],var_name=\"date\",value_name=\"price\")"
   ]
  },
  {
   "cell_type": "markdown",
   "metadata": {
    "colab_type": "text",
    "id": "7kIsgAo7o3mf"
   },
   "source": [
    "Remember to make sure your column data types are all correct. Average prices, for example, should be floating point numbers... "
   ]
  },
  {
   "cell_type": "code",
   "execution_count": 0,
   "metadata": {
    "colab": {},
    "colab_type": "code",
    "id": "ZcR4IHbcpOaq"
   },
   "outputs": [],
   "source": [
    "# Part 2.4\n",
    "ptm[\"price\"] = ptm[\"price\"].astype(float)"
   ]
  },
  {
   "cell_type": "markdown",
   "metadata": {
    "colab_type": "text",
    "id": "knLUXHLypOtw"
   },
   "source": [
    "**2.5. Cleaning the data (part 3)**\n",
    "\n",
    "Do we have an equal number of observations in the ID, Average Price, Month, and London Borough columns? Remember that there are only 32 London Boroughs. How many entries do you have in that column? \n",
    "\n",
    "Check out the contents of the London Borough column, and if you find null values, get rid of them however you see fit. "
   ]
  },
  {
   "cell_type": "code",
   "execution_count": 0,
   "metadata": {
    "colab": {},
    "colab_type": "code",
    "id": "BnvTW5a3p0fC"
   },
   "outputs": [],
   "source": [
    "# Part 2.5\n",
    "ptmd = ptm.dropna()"
   ]
  },
  {
   "cell_type": "markdown",
   "metadata": {
    "colab_type": "text",
    "id": "PGEx6mJsp6dG"
   },
   "source": [
    "**2.6. Visualizing the data**\n",
    "\n",
    "To visualize the data, why not subset on a particular London Borough? Maybe do a line plot of Month against Average Price?"
   ]
  },
  {
   "cell_type": "code",
   "execution_count": 0,
   "metadata": {
    "colab": {},
    "colab_type": "code",
    "id": "nAg5pT9cqHAR"
   },
   "outputs": [],
   "source": [
    "# Part 2.6\n",
    "ptmd[ptmd[\"area\"] == \"City of London\"].plot(y=\"price\",x=\"date\",ylabel=\"price\",title=\"House price against time for the City of London\",legend=False)\n",
    "plt.show()"
   ]
  },
  {
   "cell_type": "markdown",
   "metadata": {
    "colab_type": "text",
    "id": "aWTPqSJeqHnC"
   },
   "source": [
    "To limit the number of data points you have, you might want to extract the year from every month value your *Month* column. \n",
    "\n",
    "To this end, you *could* apply a ***lambda function***. Your logic could work as follows:\n",
    "1. look through the `Month` column\n",
    "2. extract the year from each individual value in that column \n",
    "3. store that corresponding year as separate column. \n",
    "\n",
    "Whether you go ahead with this is up to you. Just so long as you answer our initial brief: which boroughs of London have seen the greatest house price increase, on average, over the past two decades? "
   ]
  },
  {
   "cell_type": "code",
   "execution_count": 0,
   "metadata": {
    "colab": {},
    "colab_type": "code",
    "id": "e0DF92cyqnu8"
   },
   "outputs": [],
   "source": [
    "# Part 2.6\n",
    "ptmd = ptmd.assign(month_word = lambda y: y[\"date\"].dt.strftime('%B'))\n",
    "ptmd = ptmd.assign(month_num = lambda y: y[\"date\"].dt.strftime('%m'))\n",
    "\n",
    "temp = ptmd.groupby(\"area\")[\"price\"]\n",
    "(temp.max() - temp.min()).nlargest(5)"
   ]
  },
  {
   "cell_type": "markdown",
   "metadata": {
    "colab_type": "text",
    "id": "2knuTxAEqoJ4"
   },
   "source": [
    "**3. Modeling**\n",
    "\n",
    "Consider creating a function that will calculate a ratio of house prices, comparing the price of a house in 2018 to the price in 1998.\n",
    "\n",
    "Consider calling this function create_price_ratio.\n",
    "\n",
    "You'd want this function to:\n",
    "1. Take a filter of dfg, specifically where this filter constrains the London_Borough, as an argument. For example, one admissible argument should be: dfg[dfg['London_Borough']=='Camden'].\n",
    "2. Get the Average Price for that Borough, for the years 1998 and 2018.\n",
    "4. Calculate the ratio of the Average Price for 1998 divided by the Average Price for 2018.\n",
    "5. Return that ratio.\n",
    "\n",
    "Once you've written this function, you ultimately want to use it to iterate through all the unique London_Boroughs and work out the ratio capturing the difference of house prices between 1998 and 2018.\n",
    "\n",
    "Bear in mind: you don't have to write a function like this if you don't want to. If you can solve the brief otherwise, then great! \n",
    "\n",
    "***Hint***: This section should test the skills you acquired in:\n",
    "- Python Data Science Toolbox - Part One, all modules"
   ]
  },
  {
   "cell_type": "code",
   "execution_count": 0,
   "metadata": {
    "colab": {},
    "colab_type": "code",
    "id": "cKTyr437UgDa"
   },
   "outputs": [],
   "source": [
    "# Part 3\n",
    "def ratio_1998_2018(area):\n",
    "    temp = ptmd[ptmd[\"area\"] == area]\n",
    "    price_1998 = temp[temp[\"date\"].dt.year == 1998][\"price\"].mean()\n",
    "    price_2018 = temp[temp[\"date\"].dt.year == 2018][\"price\"].mean()\n",
    "    return price_1998/price_2018\n",
    "\n",
    "temp2 = []\n",
    "\n",
    "for area in ptmd.area.unique():\n",
    "    temp3 = ratio_1998_2018(area)\n",
    "    temp2.append([area,temp3])\n",
    "\n",
    "smallest_five = pd.DataFrame(temp2,columns=[\"area\",\"1998_2018_ratio\"]).nsmallest(5,\"1998_2018_ratio\")\n",
    "largest_five = pd.DataFrame(temp2,columns=[\"area\",\"1998_2018_ratio\"]).nlargest(5,\"1998_2018_ratio\")\n",
    "\n",
    "print(smallest_five, largest_five,sep=\"\\n\\n\\n NEXT \\n\\n\\n\")"
   ]
  },
  {
   "cell_type": "code",
   "execution_count": null,
   "metadata": {},
   "outputs": [],
   "source": [
    "# Further analysis for the explanation submission - Not part of assessment\n",
    "max_price_area_ind = ptmd.loc[ptmd[\"price\"].idxmax()]\n",
    "min_price_area_ind = ptmd.loc[ptmd[\"price\"].idxmin()]\n",
    "print(max_price_area_ind[\"area\"], min_price_area_ind[\"area\"])\n",
    "\n",
    "max_price_area_avg = ptmd.groupby(\"area\")[\"price\"].mean().idxmax()\n",
    "min_price_area_avg = ptmd.groupby(\"area\")[\"price\"].mean().idxmin()\n",
    "print(max_price_area_avg, min_price_area_avg)\n",
    "\n",
    "def area_price_rank(area):\n",
    "    ptmdcs = ptmd[[\"area\",\"price\"]].groupby(\"area\").mean().sort_values(by=\"price\",ascending=False).reset_index()\n",
    "    return ptmdcs[ptmdcs[\"area\"] == area].index[0] + 1\n",
    "\n",
    "area_price_rank(\"NORTH EAST\")"
   ]
  },
  {
   "cell_type": "markdown",
   "metadata": {
    "colab_type": "text",
    "id": "NzYUI7FxJpgv"
   },
   "source": [
    "### 4. Conclusion\n",
    "What can you conclude? Type out your conclusion below. \n",
    "\n",
    "Look back at your notebook. Think about how you might summarize what you have done, and prepare a quick presentation on it to your mentor at your next meeting. \n",
    "\n",
    "We hope you enjoyed this practical project. It should have consolidated your data hygiene and pandas skills by looking at a real-world problem involving just the kind of dataset you might encounter as a budding data scientist. Congratulations, and looking forward to seeing you at the next step in the course! "
   ]
  },
  {
   "cell_type": "markdown",
   "metadata": {},
   "source": [
    "After importing, transposing, melting and resetting all indexes, I calculated the area (or borough) with the highest individual and highest overall house maximum prices (using methods aggregate, mean, nsmallest and nlargest). That area was “Kensington & Chelsea”.\n",
    "\n",
    "I also calculated the area with the lowest average and overall minum prices. That area was “NORTH EAST”.\n",
    "\n",
    "In section 2.6, we calculate the ratio of the average house price in 19998 vs 2018 for all areas (or boroughs). The smaller that ratio is, the larger the relative increase there was between house prices in the past and present. For example, a ratio of ~0.1 indicates that the price from 1998 is approximately 10% of the price in 2018. That is a significant change compared to a ratio of 0.9 or 90% which would indicate relative stability between the past and present housing prices.\n",
    "\n",
    "The areas with the smallest ratios (most relative increase) were:\n",
    "- Hackney → 0.161335\n",
    "- Waltham Forest → 0.171387\n",
    "- Southwark → 0.181275\n",
    "- Lewisham → 0.183512\n",
    "- Westminster → 0.186791\n",
    "\n",
    "The areas with the largest ratios (least increase) were:\n",
    "- NORTH EAST →0.353597\n",
    "- WEST MIDLANDS → 0.302000\n",
    "- YORKS & THE HUMBER → 0.297968\n",
    "- NORTH WEST → 0.297317\n",
    "- EAST MIDLANDS → 0.275275\n",
    "\n",
    "This was interesting because:\n",
    "- Hackney has the smallest ratio (and consequently, the largest relative price increase) it’s only the 12th most expensive Borough based on average price.\n",
    "- NORTH EAST has the lowest average price, the lowest individual price and the largest ratio suggesting that is overall, the cheapest place to live in London.\n",
    "\n",
    "For more details, see the section by section breakdown below\n",
    "\n",
    "#### Part 1.1 to 1.2\n",
    "I loaded the Excel workbook and selected the sheet with Average house prices in the UK.\n",
    "\n",
    "The sheet had dates as its index and columns with names and uniquecodes for areas in the UK (for example, \"City of London\" had code \"E09000001\").\n",
    "\n",
    "I loaded this data into a dataframe.\n",
    "\n",
    "#### Part 2.1\n",
    "To get a sense of the dataframe, I used the following dataframe methods:\n",
    "- head\n",
    "- describe\n",
    "- columns\n",
    "- index\n",
    "- shape\n",
    "\n",
    "#### Part 2.2\n",
    "I transposed dataframe to set the areas to be the index and the dates to be the columns\n",
    "I reset index to make it a range from 0 to n-1 where n is the number of rows in the transposed dataframe\n",
    "\n",
    "I set the values of the first row to be the column values for the data frame then dropped that first row while resetting the index\n",
    "so the index still began at 0\n",
    "\n",
    "#### Part 2.3\n",
    "The first two columns were renamed to \"areas\" and \"codes\" as they were invalid values following the transpose of the dataframe.\n",
    "\n",
    "#### Part 2.4\n",
    "I melted the dataframe leaving \"areas\" and codes\" as the id variables and setting \"date\" and \"cost\" to be the variable \n",
    "and value names respectively. \n",
    "\n",
    "I set the datatype of the \"cost\" column to float.\n",
    "\n",
    "#### Part 2.5\n",
    "I dropped all rows with null values.\n",
    "\n",
    "#### Part 2.6\n",
    "I subsetted the area: \"City of London\" and plotted its cost against time.\n",
    "There was a significant rise in average house price from 1998 to 2018.\n",
    "\n",
    "The areas with the 5 largest differences were as follows:\n",
    "1. Kensington & Chelsea    1.323556e+06\n",
    "2. Westminster             9.859392e+05\n",
    "3. City of London          8.777824e+05\n",
    "4. Camden                  7.748696e+05\n",
    "5. Hammersmith & Fulham    7.332346e+05\n",
    "\n",
    "#### Part 3\n",
    "I defined a function (ratio_1998_2018) which takes an area of the UK and generates a ratio of average house prices from \n",
    "1998 to average house prices from 2018. \n",
    "\n",
    "I passed each unique area to the function using a for-loop and generated a dataframe with columns \"area\" and \"1998_2018_ratio\" \n",
    "showing the ratio of prices from 1998 to 2018.\n",
    "\n",
    "Naturally, the smaller that ratio is, the bigger the increase in average house prices during the two periods.\n",
    "\n",
    "The 5 smalles values were:\n",
    "- Hackney\t0.161335\n",
    "- Waltham Forest\t0.171387\n",
    "- Southwark\t0.181275\n",
    "- Lewisham\t0.183512\n",
    "- Westminster\t0.186791\n",
    "\n",
    "As one would expect, due to inflation, population growth, real estate bubbles and the rising cost of living, \n",
    "the cost of owning houses in a city like London has increased significantly."
   ]
  }
 ],
 "metadata": {
  "colab": {
   "collapsed_sections": [],
   "name": "Springboard Data Science Career Track Unit 4 Challenge - Tier 3 Complete .ipynb",
   "provenance": []
  },
  "kernelspec": {
   "display_name": "Python 3 (ipykernel)",
   "language": "python",
   "name": "python3"
  },
  "language_info": {
   "codemirror_mode": {
    "name": "ipython",
    "version": 3
   },
   "file_extension": ".py",
   "mimetype": "text/x-python",
   "name": "python",
   "nbconvert_exporter": "python",
   "pygments_lexer": "ipython3",
   "version": "3.10.9"
  }
 },
 "nbformat": 4,
 "nbformat_minor": 1
}
